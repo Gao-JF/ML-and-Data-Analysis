{
 "cells": [
  {
   "cell_type": "markdown",
   "metadata": {},
   "source": [
    "Web scrapping using Beautiful Soup.\n",
    "Target - Kitco.com"
   ]
  },
  {
   "cell_type": "code",
   "execution_count": 116,
   "metadata": {},
   "outputs": [],
   "source": [
    "import requests\n",
    "from bs4 import BeautifulSoup"
   ]
  },
  {
   "cell_type": "markdown",
   "metadata": {},
   "source": [
    "Load the news section and get the content of \"Kitco Latest News\"."
   ]
  },
  {
   "cell_type": "code",
   "execution_count": 117,
   "metadata": {},
   "outputs": [],
   "source": [
    "coverpage = requests.get('https://www.kitco.com/news/').content\n",
    "soup = BeautifulSoup(coverpage, 'html.parser')\n",
    "front_news = soup.find_all('div', class_='news-info')\n",
    "sec_news = soup.find_all('div', class_=\"news-list last-list\")"
   ]
  },
  {
   "cell_type": "markdown",
   "metadata": {},
   "source": [
    "Some articles are duplicated in the front news (with images) and the followup list. find unique and get urls."
   ]
  },
  {
   "cell_type": "code",
   "execution_count": 119,
   "metadata": {},
   "outputs": [],
   "source": [
    "unique_articles = []\n",
    "\n",
    "for elem in front_news + sec_news[0].find_all('div', class_=\"\"):\n",
    "    ref = elem.find_all('span', class_='title')[0].find_all('a')[0]['href']\n",
    "    title = elem.find_all('span', class_='title')[0].find_all('a')[0].text\n",
    "    unique_articles.append((title, ref))\n",
    "\n",
    "unique_articles = list(set(unique_articles))"
   ]
  },
  {
   "cell_type": "markdown",
   "metadata": {},
   "source": [
    "Finally, read articles one by one, storing its url, title, description (if any), time published, time modified, and content."
   ]
  },
  {
   "cell_type": "code",
   "execution_count": 120,
   "metadata": {},
   "outputs": [
    {
     "name": "stdout",
     "output_type": "stream",
     "text": [
      "---Title---  Sanders narrowly wins New Hampshire Democratic primary, Biden lags badly\n",
      "---Description---   \n",
      "---Publication time--- 2020-02-12 04:38:00 \n",
      "\n",
      "---Title---  RBC's Gero: gold eases but look for bargain hunting on big price dips\n",
      "---Description--- Market Nuggets compiles all of the day's top expert analysis on the gold market. They offer a short synopsis of bank forecasts, and the outlook of famed economists like Dennis Gartman and Nouriel Roubini. Kitco Nuggets are constantly updated throughout the day. \n",
      "---Publication time--- 2020-02-11 13:56:00 \n",
      "\n",
      "---Title---  Gold bulls hanging tough in face of rallying global stock markets\n",
      "---Description--- Senior Technical Analyst Jim Wyckoff prepares investors with an overview of how the markets opened and closed. What moved metal prices? How do the technicals look? By looking at important developments \n",
      "---Publication time--- 2020-02-12 18:22:00 \n",
      "\n",
      "---Title---  Palladium deficit expected to widen in 2020 - Johnson Matthey\n",
      "---Description---  \n",
      "---Publication time--- 2020-02-12 15:56:00 \n",
      "\n",
      "---Title---  China's gold demand could fall by 10% in 2020, analysts cite economic uncertainty, coronavirus \n",
      "---Description---   \n",
      "---Publication time--- 2020-02-11 22:10:00 \n",
      "\n",
      "---Title---  Gold, silver reaching support\n",
      "---Description--- Kitco News' contributed commentary features articles and opinions from some of the top experts in the gold industry.\n",
      "---Publication time--- 2020-02-12 13:18:00 \n",
      "\n",
      "---Title---  Short and sweet--the lowdown on gold outlook\n",
      "---Description---  \n",
      "---Publication time--- 2020-02-11 14:50:00 \n",
      "\n",
      "---Title---  Gold, silver prices a bit weaker amid low risk aversion  \n",
      "---Description--- Senior Technical Analyst Jim Wyckoff prepares investors with an overview of how the markets opened and closed. What moved metal prices? How do the technicals look? By looking at important developments \n",
      "---Publication time--- 2020-02-12 13:13:00 \n",
      "\n",
      "---Title---  Stock market looks ready for a correction, but is gold ready to bounce back?\n",
      "---Description---  \n",
      "---Publication time--- 2020-02-11 23:49:00 \n",
      "\n",
      "---Title---  Gold, silver down amid upbeat comments from Fed Chair Powell\n",
      "---Description--- Senior Technical Analyst Jim Wyckoff prepares investors with an overview of how the markets opened and closed. What moved metal prices? How do the technicals look? By looking at important developments \n",
      "---Publication time--- 2020-02-11 18:06:00 \n",
      "\n",
      "---Title---  Bitcoin daily chart alert - Prices pop to 5-month high - Feb. 12\n",
      "---Description---  \n",
      "---Publication time--- 2020-02-12 13:08:00 \n",
      "\n",
      "---Title---  Gold price holding steady as Fed Chair Powell strikes neutral tone\n",
      "---Description---  (Kitco News) - The gold market remains under pressure but is seeing little reaction to a relatively neutral tone from Federal Reserve Chair Jerome Powell.      \n",
      "---Publication time--- 2020-02-11 13:41:00 \n",
      "\n",
      "---Title---  Corona & debt  a twin virus horror  \n",
      "---Description--- Kitco News' contributed commentary features articles and opinions from some of the top experts in the gold industry.\n",
      "---Publication time--- 2020-02-11 20:24:00 \n",
      "\n"
     ]
    }
   ],
   "source": [
    "from datetime import datetime\n",
    "\n",
    "# Container class for storing news information.\n",
    "class News_Piece():\n",
    "    def __init__(self, url, title, descr, time_post, time_mod, text):\n",
    "        self.url = url\n",
    "        self.title = title\n",
    "        self.description = descr\n",
    "        self.time_post = time_post\n",
    "        self.time_mod = time_mod\n",
    "        self.text = text.strip('n')\n",
    "\n",
    "scrapped_news = []\n",
    "\n",
    "for elem in unique_articles:\n",
    "    url = 'https://www.kitco.com' + elem[1]\n",
    "        \n",
    "    content = requests.get(url).content\n",
    "    soup = BeautifulSoup(content, 'html.parser')\n",
    "    \n",
    "    title = soup.find('meta', {'property' : 'og:title'})['content']\n",
    "    descr = soup.find('meta', {'property' : 'og:description'})['content']\n",
    "    t_pub = soup.find('meta', {'property' : 'article:published_time'})['content'][:-5]\n",
    "    t_mod = soup.find('meta', {'property' : 'article:modified_time'})['content'][:-5]\n",
    "    text = soup.find('article', {'itemprop' : 'articleBody'}).text\n",
    "    \n",
    "    scrapped_news.append(News_Piece(url, title, descr, t_pub, t_pub, text))\n",
    "    \n",
    "    print('---Title--- ', title)\n",
    "    print('---Description---', descr)\n",
    "    print('---Publication time---', datetime.fromisoformat(t_pub), '\\n')"
   ]
  },
  {
   "cell_type": "code",
   "execution_count": null,
   "metadata": {},
   "outputs": [],
   "source": []
  }
 ],
 "metadata": {
  "kernelspec": {
   "display_name": "Python 3",
   "language": "python",
   "name": "python3"
  },
  "language_info": {
   "codemirror_mode": {
    "name": "ipython",
    "version": 3
   },
   "file_extension": ".py",
   "mimetype": "text/x-python",
   "name": "python",
   "nbconvert_exporter": "python",
   "pygments_lexer": "ipython3",
   "version": "3.7.4"
  }
 },
 "nbformat": 4,
 "nbformat_minor": 2
}
