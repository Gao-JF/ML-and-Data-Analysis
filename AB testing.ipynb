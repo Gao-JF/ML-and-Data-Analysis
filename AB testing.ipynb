{
 "cells": [
  {
   "cell_type": "markdown",
   "metadata": {},
   "source": [
    "Test if 'setosa' and 'versicolor' flower dimensions taken the iris dataset are statistically different using Permutation Test."
   ]
  },
  {
   "cell_type": "code",
   "execution_count": 1,
   "metadata": {},
   "outputs": [],
   "source": [
    "import numpy as np\n",
    "from sklearn.datasets import load_iris\n",
    "\n",
    "data = load_iris()"
   ]
  },
  {
   "cell_type": "markdown",
   "metadata": {},
   "source": [
    "Check our data."
   ]
  },
  {
   "cell_type": "code",
   "execution_count": 2,
   "metadata": {},
   "outputs": [
    {
     "name": "stdout",
     "output_type": "stream",
     "text": [
      "['DESCR', 'data', 'feature_names', 'filename', 'target', 'target_names']\n",
      "['sepal length (cm)', 'sepal width (cm)', 'petal length (cm)', 'petal width (cm)']\n",
      "['setosa' 'versicolor' 'virginica']\n",
      "(150, 4)\n"
     ]
    }
   ],
   "source": [
    "print(dir(data))\n",
    "print(data['feature_names'])\n",
    "print(data['target_names'])\n",
    "print(data['data'].shape)"
   ]
  },
  {
   "cell_type": "markdown",
   "metadata": {},
   "source": [
    "Select two kinds of irises of interest."
   ]
  },
  {
   "cell_type": "code",
   "execution_count": 3,
   "metadata": {},
   "outputs": [],
   "source": [
    "setosa = data['target'] == 0\n",
    "versicolor = data['target'] == 1\n",
    "setosa_data = data['data'][setosa]\n",
    "versicolor_data = data['data'][versicolor]"
   ]
  },
  {
   "cell_type": "markdown",
   "metadata": {},
   "source": [
    "Here we can select the size of a 'setosa' sample set ('A') and 'versicolor' ('B'). By setting 'replace = True' we can go beyond the original sample size. Also lets scale the features by the respective mean values in set 'A'."
   ]
  },
  {
   "cell_type": "code",
   "execution_count": 4,
   "metadata": {},
   "outputs": [],
   "source": [
    "setosa_sample_size = 50\n",
    "versicolor_sample_size = 50\n",
    "\n",
    "sample = np.random.choice(len(setosa_data), setosa_sample_size, replace = False)\n",
    "A_sample = setosa_data[sample, :]\n",
    "sample = np.random.choice(len(versicolor_data), versicolor_sample_size, replace = False)\n",
    "B_sample = versicolor_data[sample, :]\n",
    "\n",
    "scale_mean = np.array([np.mean(col) for col in A_sample.transpose()])\n",
    "A_sample = A_sample/scale_mean\n",
    "B_sample = B_sample/scale_mean"
   ]
  },
  {
   "cell_type": "markdown",
   "metadata": {},
   "source": [
    "Here the author has to confess his complete lack of any knowledge in botany. Therefore lets treat available features (lengths of different parts of a flower) as equally important. We can use Principal Component Analysis to determine a linear combination of features that has the largest variance. This would give us a metric to check how close are sets 'A' and 'B' (Null hypothesis - they are the same species, so the underlying distribution is the same for both sets)."
   ]
  },
  {
   "cell_type": "code",
   "execution_count": 5,
   "metadata": {},
   "outputs": [],
   "source": [
    "from sklearn.decomposition import PCA\n",
    "\n",
    "pca = PCA(n_components=1)\n",
    "pca.fit(np.concatenate((A_sample, B_sample), axis=0))\n",
    "\n",
    "A_scaled = pca.transform(A_sample)\n",
    "B_scaled = pca.transform(B_sample)"
   ]
  },
  {
   "cell_type": "markdown",
   "metadata": {},
   "source": [
    "Simple function for the Permutation Test. The output is the difference of means of 'A' and 'B' and an array ('shuffled') of differences of means for permutted sets."
   ]
  },
  {
   "cell_type": "code",
   "execution_count": 6,
   "metadata": {},
   "outputs": [],
   "source": [
    "def perm_test(A, B, n):\n",
    "    l_A, k = len(A), 0\n",
    "    shuffled = np.zeros(n)\n",
    "    delta = np.mean(A) - np.mean(B)\n",
    "    S = np.concatenate([A, B])\n",
    "    for i in range(n):\n",
    "        np.random.shuffle(S)\n",
    "        shuffled[i] = np.mean(S[:l_A]) - np.mean(S[l_A:])\n",
    "    return delta, shuffled\n",
    "\n",
    "delta, shuffled = perm_test(A_scaled, B_scaled, 1000)"
   ]
  },
  {
   "cell_type": "markdown",
   "metadata": {},
   "source": [
    "Lets plot the histogram for 'shuffled'."
   ]
  },
  {
   "cell_type": "code",
   "execution_count": 8,
   "metadata": {},
   "outputs": [
    {
     "data": {
      "image/png": "[encoded data removed]",
      "text/plain": [
       "<Figure size 648x432 with 1 Axes>"
      ]
     },
     "metadata": {
      "needs_background": "light"
     },
     "output_type": "display_data"
    }
   ],
   "source": [
    "import matplotlib.pyplot as plt\n",
    "\n",
    "std = np.sqrt(np.var(shuffled))\n",
    "\n",
    "plt.rcParams[\"font.size\"] = 14\n",
    "fig = plt.figure(figsize=(9, 6))\n",
    "ax = fig.add_subplot(111)\n",
    "\n",
    "# the histogram of the data\n",
    "n, bins, patches = ax.hist(shuffled, bins = 50, density=1)\n",
    "\n",
    "ax.axvline(x = np.abs(delta), linewidth=2, color='r', label = 'A/B means difference')\n",
    "ax.axvline(x = std, linewidth=2, color='y', label = 'Standard Deviation')\n",
    "ax.set_xlabel('Mean delta magnitude')\n",
    "ax.set_ylabel('Binned mean counts')\n",
    "ax.set_title(r'Histogram of the means delta for random permutation sets')\n",
    "\n",
    "plt.figlegend(loc = (0.5, 0.8))\n",
    "# Tweak spacing to prevent clipping of ylabel\n",
    "fig.tight_layout()\n",
    "\n",
    "plt.show()"
   ]
  },
  {
   "cell_type": "markdown",
   "metadata": {},
   "source": [
    "Yellow line represents the Standard Deviation (usually referred to as 'sigma') of 'shuffled' and the red line is the difference between 'A' and 'B' means. We conclude that 'A' and 'B' are at least 8 sigma away and are extremely unlikely to represent the samples of the same kind of flower."
   ]
  },
  {
   "cell_type": "code",
   "execution_count": null,
   "metadata": {},
   "outputs": [],
   "source": []
  }
 ],
 "metadata": {
  "kernelspec": {
   "display_name": "Python 3",
   "language": "python",
   "name": "python3"
  },
  "language_info": {
   "codemirror_mode": {
    "name": "ipython",
    "version": 3
   },
   "file_extension": ".py",
   "mimetype": "text/x-python",
   "name": "python",
   "nbconvert_exporter": "python",
   "pygments_lexer": "ipython3",
   "version": "3.7.4"
  }
 },
 "nbformat": 4,
 "nbformat_minor": 2
}
